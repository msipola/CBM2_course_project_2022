{
 "cells": [
  {
   "cell_type": "markdown",
   "source": "# Diabetes dataset supervised learning",
   "metadata": {
    "cell_id": "9f136bda645e42459d813fab7b5a21f4",
    "tags": [],
    "is_collapsed": false,
    "deepnote_cell_type": "text-cell-h1"
   }
  },
  {
   "cell_type": "markdown",
   "source": "Team Orange: Eino Kanerva, Aapo Saavalainen, and Mikko Sipola\n\nDataset: diabetes, [source](https://www4.stat.ncsu.edu/~boos/var.select/diabetes.html)",
   "metadata": {
    "cell_id": "079686ec7265442c8b4ac657afac6e96",
    "tags": [],
    "deepnote_cell_type": "markdown",
    "deepnote_cell_height": 88.13333129882812
   }
  },
  {
   "cell_type": "markdown",
   "source": "Challenges for partner team:\n\n**Task 1:** The scaling of the data is rather odd. In general, we don't need to scale data for simple regression model. Check if using original data from [here](https://www4.stat.ncsu.edu/~boos/var.select/diabetes.tab.txt) changes anything for our results and interpretation.\n\n**Task 2:** Do the distributions of different variables differ between genders? Does gender have an effect in regression?\n\n**Task 3:** Hyperparameter tuning for decision tree. We would be interested to see optimal model for this data.",
   "metadata": {
    "cell_id": "c5b61152c38c46a9b12f12725b12dad3",
    "tags": [],
    "deepnote_cell_type": "markdown",
    "deepnote_cell_height": 183.3333282470703
   }
  },
  {
   "cell_type": "markdown",
   "source": "### Loading libraries",
   "metadata": {
    "cell_id": "2b36690735854d9582a99c5fd5329f8a",
    "tags": [],
    "is_collapsed": false,
    "deepnote_cell_type": "text-cell-h3"
   }
  },
  {
   "cell_type": "code",
   "metadata": {
    "cell_id": "2a93b844358749abb396a76312174fe1",
    "tags": [],
    "deepnote_to_be_reexecuted": false,
    "source_hash": "55c6b7c1",
    "execution_start": 1653307783622,
    "execution_millis": 14,
    "deepnote_cell_type": "code",
    "deepnote_cell_height": 224.3333282470703
   },
   "source": "import numpy as np\nimport pandas as pd\nfrom matplotlib import pyplot as plt\nimport seaborn as sns\nfrom sklearn.datasets import make_regression\nfrom sklearn.linear_model import LinearRegression\nfrom sklearn.preprocessing import PolynomialFeatures\n\n%matplotlib inline",
   "execution_count": 149,
   "outputs": []
  },
  {
   "cell_type": "markdown",
   "source": "### Read data",
   "metadata": {
    "cell_id": "2170fbfdc62540b8a36ddad0af412a0a",
    "tags": [],
    "is_collapsed": false,
    "deepnote_cell_type": "text-cell-h3"
   }
  },
  {
   "cell_type": "code",
   "metadata": {
    "cell_id": "9309346bf67644569ac48be4e9c910a9",
    "tags": [],
    "deepnote_to_be_reexecuted": false,
    "source_hash": "8dea0ca7",
    "execution_start": 1653307679809,
    "execution_millis": 24,
    "deepnote_cell_type": "code",
    "deepnote_cell_height": 736
   },
   "source": "from sklearn import datasets\ndiabetes = datasets.load_diabetes()\nprint(diabetes.DESCR)",
   "execution_count": 144,
   "outputs": [
    {
     "name": "stdout",
     "text": ".. _diabetes_dataset:\n\nDiabetes dataset\n----------------\n\nTen baseline variables, age, sex, body mass index, average blood\npressure, and six blood serum measurements were obtained for each of n =\n442 diabetes patients, as well as the response of interest, a\nquantitative measure of disease progression one year after baseline.\n\n**Data Set Characteristics:**\n\n  :Number of Instances: 442\n\n  :Number of Attributes: First 10 columns are numeric predictive values\n\n  :Target: Column 11 is a quantitative measure of disease progression one year after baseline\n\n  :Attribute Information:\n      - age     age in years\n      - sex\n      - bmi     body mass index\n      - bp      average blood pressure\n      - s1      tc, total serum cholesterol\n      - s2      ldl, low-density lipoproteins\n      - s3      hdl, high-density lipoproteins\n      - s4      tch, total cholesterol / HDL\n      - s5      ltg, possibly log of serum triglycerides level\n      - s6      glu, blood sugar level\n\nNote: Each of these 10 feature variables have been mean centered and scaled by the standard deviation times `n_samples` (i.e. the sum of squares of each column totals 1).\n\nSource URL:\nhttps://www4.stat.ncsu.edu/~boos/var.select/diabetes.html\n\nFor more information see:\nBradley Efron, Trevor Hastie, Iain Johnstone and Robert Tibshirani (2004) \"Least Angle Regression,\" Annals of Statistics (with discussion), 407-499.\n(https://web.stanford.edu/~hastie/Papers/LARS/LeastAngle_2002.pdf)\n",
     "output_type": "stream"
    }
   ]
  },
  {
   "cell_type": "code",
   "metadata": {
    "cell_id": "fa3eab8683134fcc88902dee5d29cbc1",
    "tags": [],
    "deepnote_to_be_reexecuted": false,
    "source_hash": "e13900ee",
    "execution_start": 1653307694501,
    "execution_millis": 17,
    "deepnote_cell_type": "code",
    "deepnote_cell_height": 116.33332824707031,
    "deepnote_output_heights": [
     21
    ]
   },
   "source": "X = diabetes.data\ny = diabetes.target\nnames = diabetes.feature_names",
   "execution_count": 145,
   "outputs": []
  },
  {
   "cell_type": "code",
   "metadata": {
    "cell_id": "6547c51757c84aa8901bd7adcb783efc",
    "tags": [],
    "deepnote_to_be_reexecuted": false,
    "source_hash": "57ab0333",
    "execution_start": 1653307701239,
    "execution_millis": 303,
    "deepnote_cell_type": "code",
    "deepnote_cell_height": 501.66668701171875,
    "deepnote_output_heights": [
     21
    ]
   },
   "source": "#create data frame from diabetes data\ndf = pd.DataFrame(data=X,columns=names)\ndf.loc[df[\"sex\"] == 0.0506801187398187, \"sex\"] = 1\ndf.loc[df[\"sex\"] == -0.044641636506989, \"sex\"] = 0\ndf['sex'] = df['sex'].astype('category')\ndf.loc[:,\"prog\"] = y #add diabetes progression to data frame\ndf.head() #check a few rows from data",
   "execution_count": 146,
   "outputs": [
    {
     "output_type": "execute_result",
     "execution_count": 146,
     "data": {
      "application/vnd.deepnote.dataframe.v3+json": {
       "column_count": 11,
       "row_count": 5,
       "columns": [
        {
         "name": "age",
         "dtype": "float64",
         "stats": {
          "unique_count": 5,
          "nan_count": 0,
          "min": "-0.0890629393522603",
          "max": "0.0852989062966783",
          "histogram": [
           {
            "bin_start": -0.0890629393522603,
            "bin_end": -0.07162675478736644,
            "count": 1
           },
           {
            "bin_start": -0.07162675478736644,
            "bin_end": -0.05419057022247258,
            "count": 0
           },
           {
            "bin_start": -0.05419057022247258,
            "bin_end": -0.03675438565757873,
            "count": 0
           },
           {
            "bin_start": -0.03675438565757873,
            "bin_end": -0.019318201092684867,
            "count": 0
           },
           {
            "bin_start": -0.019318201092684867,
            "bin_end": -0.0018820165277910056,
            "count": 1
           },
           {
            "bin_start": -0.0018820165277910056,
            "bin_end": 0.015554168037102842,
            "count": 1
           },
           {
            "bin_start": 0.015554168037102842,
            "bin_end": 0.0329903526019967,
            "count": 0
           },
           {
            "bin_start": 0.0329903526019967,
            "bin_end": 0.050426537166890564,
            "count": 1
           },
           {
            "bin_start": 0.050426537166890564,
            "bin_end": 0.06786272173178441,
            "count": 0
           },
           {
            "bin_start": 0.06786272173178441,
            "bin_end": 0.0852989062966783,
            "count": 1
           }
          ]
         }
        },
        {
         "name": "sex",
         "dtype": "category",
         "stats": {
          "unique_count": 2,
          "nan_count": 0,
          "categories": [
           {
            "name": "0.0",
            "count": 3
           },
           {
            "name": "1.0",
            "count": 2
           }
          ]
         }
        },
        {
         "name": "bmi",
         "dtype": "float64",
         "stats": {
          "unique_count": 5,
          "nan_count": 0,
          "min": "-0.0514740612388061",
          "max": "0.0616962065186885",
          "histogram": [
           {
            "bin_start": -0.0514740612388061,
            "bin_end": -0.04015703446305664,
            "count": 1
           },
           {
            "bin_start": -0.04015703446305664,
            "bin_end": -0.02884000768730718,
            "count": 1
           },
           {
            "bin_start": -0.02884000768730718,
            "bin_end": -0.01752298091155772,
            "count": 0
           },
           {
            "bin_start": -0.01752298091155772,
            "bin_end": -0.00620595413580826,
            "count": 1
           },
           {
            "bin_start": -0.00620595413580826,
            "bin_end": 0.0051110726399411985,
            "count": 0
           },
           {
            "bin_start": 0.0051110726399411985,
            "bin_end": 0.016428099415690664,
            "count": 0
           },
           {
            "bin_start": 0.016428099415690664,
            "bin_end": 0.027745126191440123,
            "count": 0
           },
           {
            "bin_start": 0.027745126191440123,
            "bin_end": 0.03906215296718958,
            "count": 0
           },
           {
            "bin_start": 0.03906215296718958,
            "bin_end": 0.05037917974293904,
            "count": 1
           },
           {
            "bin_start": 0.05037917974293904,
            "bin_end": 0.0616962065186885,
            "count": 1
           }
          ]
         }
        },
        {
         "name": "bp",
         "dtype": "float64",
         "stats": {
          "unique_count": 4,
          "nan_count": 0,
          "min": "-0.0366564467985606",
          "max": "0.0218723549949558",
          "histogram": [
           {
            "bin_start": -0.0366564467985606,
            "bin_end": -0.030803566619208963,
            "count": 1
           },
           {
            "bin_start": -0.030803566619208963,
            "bin_end": -0.024950686439857324,
            "count": 1
           },
           {
            "bin_start": -0.024950686439857324,
            "bin_end": -0.01909780626050568,
            "count": 0
           },
           {
            "bin_start": -0.01909780626050568,
            "bin_end": -0.013244926081154042,
            "count": 0
           },
           {
            "bin_start": -0.013244926081154042,
            "bin_end": -0.0073920459018024035,
            "count": 0
           },
           {
            "bin_start": -0.0073920459018024035,
            "bin_end": -0.001539165722450761,
            "count": 1
           },
           {
            "bin_start": -0.001539165722450761,
            "bin_end": 0.0043137144569008745,
            "count": 0
           },
           {
            "bin_start": 0.0043137144569008745,
            "bin_end": 0.010166594636252517,
            "count": 0
           },
           {
            "bin_start": 0.010166594636252517,
            "bin_end": 0.01601947481560416,
            "count": 0
           },
           {
            "bin_start": 0.01601947481560416,
            "bin_end": 0.0218723549949558,
            "count": 2
           }
          ]
         }
        },
        {
         "name": "s1",
         "dtype": "float64",
         "stats": {
          "unique_count": 5,
          "nan_count": 0,
          "min": "-0.0455994512826475",
          "max": "0.0121905687618",
          "histogram": [
           {
            "bin_start": -0.0455994512826475,
            "bin_end": -0.03982044927820275,
            "count": 2
           },
           {
            "bin_start": -0.03982044927820275,
            "bin_end": -0.034041447273758005,
            "count": 0
           },
           {
            "bin_start": -0.034041447273758005,
            "bin_end": -0.02826244526931325,
            "count": 0
           },
           {
            "bin_start": -0.02826244526931325,
            "bin_end": -0.0224834432648685,
            "count": 0
           },
           {
            "bin_start": -0.0224834432648685,
            "bin_end": -0.016704441260423752,
            "count": 0
           },
           {
            "bin_start": -0.016704441260423752,
            "bin_end": -0.010925439255978997,
            "count": 0
           },
           {
            "bin_start": -0.010925439255978997,
            "bin_end": -0.0051464372515342485,
            "count": 1
           },
           {
            "bin_start": -0.0051464372515342485,
            "bin_end": 0.0006325647529105,
            "count": 0
           },
           {
            "bin_start": 0.0006325647529105,
            "bin_end": 0.0064115667573552484,
            "count": 1
           },
           {
            "bin_start": 0.0064115667573552484,
            "bin_end": 0.0121905687618,
            "count": 1
           }
          ]
         }
        },
        {
         "name": "s2",
         "dtype": "float64",
         "stats": {
          "unique_count": 5,
          "nan_count": 0,
          "min": "-0.0348207628376986",
          "max": "0.0249905933641021",
          "histogram": [
           {
            "bin_start": -0.0348207628376986,
            "bin_end": -0.02883962721751853,
            "count": 2
           },
           {
            "bin_start": -0.02883962721751853,
            "bin_end": -0.02285849159733846,
            "count": 0
           },
           {
            "bin_start": -0.02285849159733846,
            "bin_end": -0.016877355977158393,
            "count": 1
           },
           {
            "bin_start": -0.016877355977158393,
            "bin_end": -0.01089622035697832,
            "count": 0
           },
           {
            "bin_start": -0.01089622035697832,
            "bin_end": -0.0049150847367982475,
            "count": 0
           },
           {
            "bin_start": -0.0049150847367982475,
            "bin_end": 0.001066050883381818,
            "count": 0
           },
           {
            "bin_start": 0.001066050883381818,
            "bin_end": 0.0070471865035618905,
            "count": 0
           },
           {
            "bin_start": 0.0070471865035618905,
            "bin_end": 0.013028322123741963,
            "count": 0
           },
           {
            "bin_start": 0.013028322123741963,
            "bin_end": 0.019009457743922036,
            "count": 1
           },
           {
            "bin_start": 0.019009457743922036,
            "bin_end": 0.0249905933641021,
            "count": 1
           }
          ]
         }
        },
        {
         "name": "s3",
         "dtype": "float64",
         "stats": {
          "unique_count": 5,
          "nan_count": 0,
          "min": "-0.0434008456520269",
          "max": "0.0744115640787594",
          "histogram": [
           {
            "bin_start": -0.0434008456520269,
            "bin_end": -0.03161960467894827,
            "count": 3
           },
           {
            "bin_start": -0.03161960467894827,
            "bin_end": -0.019838363705869638,
            "count": 0
           },
           {
            "bin_start": -0.019838363705869638,
            "bin_end": -0.008057122732791008,
            "count": 0
           },
           {
            "bin_start": -0.008057122732791008,
            "bin_end": 0.0037241182402876216,
            "count": 0
           },
           {
            "bin_start": 0.0037241182402876216,
            "bin_end": 0.015505359213366252,
            "count": 1
           },
           {
            "bin_start": 0.015505359213366252,
            "bin_end": 0.02728660018644488,
            "count": 0
           },
           {
            "bin_start": 0.02728660018644488,
            "bin_end": 0.03906784115952351,
            "count": 0
           },
           {
            "bin_start": 0.03906784115952351,
            "bin_end": 0.05084908213260214,
            "count": 0
           },
           {
            "bin_start": 0.05084908213260214,
            "bin_end": 0.06263032310568077,
            "count": 0
           },
           {
            "bin_start": 0.06263032310568077,
            "bin_end": 0.0744115640787594,
            "count": 1
           }
          ]
         }
        },
        {
         "name": "s4",
         "dtype": "float64",
         "stats": {
          "unique_count": 3,
          "nan_count": 0,
          "min": "-0.0394933828740919",
          "max": "0.0343088588777263",
          "histogram": [
           {
            "bin_start": -0.0394933828740919,
            "bin_end": -0.03211315869891008,
            "count": 1
           },
           {
            "bin_start": -0.03211315869891008,
            "bin_end": -0.024732934523728257,
            "count": 0
           },
           {
            "bin_start": -0.024732934523728257,
            "bin_end": -0.017352710348546435,
            "count": 0
           },
           {
            "bin_start": -0.017352710348546435,
            "bin_end": -0.009972486173364617,
            "count": 0
           },
           {
            "bin_start": -0.009972486173364617,
            "bin_end": -0.002592261998182799,
            "count": 3
           },
           {
            "bin_start": -0.002592261998182799,
            "bin_end": 0.004787962176999026,
            "count": 0
           },
           {
            "bin_start": 0.004787962176999026,
            "bin_end": 0.012168186352180844,
            "count": 0
           },
           {
            "bin_start": 0.012168186352180844,
            "bin_end": 0.019548410527362663,
            "count": 0
           },
           {
            "bin_start": 0.019548410527362663,
            "bin_end": 0.02692863470254448,
            "count": 0
           },
           {
            "bin_start": 0.02692863470254448,
            "bin_end": 0.0343088588777263,
            "count": 1
           }
          ]
         }
        },
        {
         "name": "s5",
         "dtype": "float64",
         "stats": {
          "unique_count": 5,
          "nan_count": 0,
          "min": "-0.0683297436244215",
          "max": "0.0226920225667445",
          "histogram": [
           {
            "bin_start": -0.0683297436244215,
            "bin_end": -0.0592275670053049,
            "count": 1
           },
           {
            "bin_start": -0.0592275670053049,
            "bin_end": -0.050125390386188295,
            "count": 0
           },
           {
            "bin_start": -0.050125390386188295,
            "bin_end": -0.0410232137670717,
            "count": 0
           },
           {
            "bin_start": -0.0410232137670717,
            "bin_end": -0.0319210371479551,
            "count": 1
           },
           {
            "bin_start": -0.0319210371479551,
            "bin_end": -0.022818860528838497,
            "count": 0
           },
           {
            "bin_start": -0.022818860528838497,
            "bin_end": -0.013716683909721902,
            "count": 0
           },
           {
            "bin_start": -0.013716683909721902,
            "bin_end": -0.004614507290605294,
            "count": 0
           },
           {
            "bin_start": -0.004614507290605294,
            "bin_end": 0.004487669328511301,
            "count": 1
           },
           {
            "bin_start": 0.004487669328511301,
            "bin_end": 0.013589845947627896,
            "count": 0
           },
           {
            "bin_start": 0.013589845947627896,
            "bin_end": 0.0226920225667445,
            "count": 2
           }
          ]
         }
        },
        {
         "name": "s6",
         "dtype": "float64",
         "stats": {
          "unique_count": 5,
          "nan_count": 0,
          "min": "-0.09220404962683",
          "max": "-0.0093619113301358",
          "histogram": [
           {
            "bin_start": -0.09220404962683,
            "bin_end": -0.08391983579716059,
            "count": 1
           },
           {
            "bin_start": -0.08391983579716059,
            "bin_end": -0.07563562196749116,
            "count": 0
           },
           {
            "bin_start": -0.07563562196749116,
            "bin_end": -0.06735140813782174,
            "count": 0
           },
           {
            "bin_start": -0.06735140813782174,
            "bin_end": -0.05906719430815232,
            "count": 0
           },
           {
            "bin_start": -0.05906719430815232,
            "bin_end": -0.0507829804784829,
            "count": 0
           },
           {
            "bin_start": -0.0507829804784829,
            "bin_end": -0.04249876664881348,
            "count": 1
           },
           {
            "bin_start": -0.04249876664881348,
            "bin_end": -0.03421455281914406,
            "count": 0
           },
           {
            "bin_start": -0.03421455281914406,
            "bin_end": -0.02593033898947464,
            "count": 0
           },
           {
            "bin_start": -0.02593033898947464,
            "bin_end": -0.017646125159805223,
            "count": 1
           },
           {
            "bin_start": -0.017646125159805223,
            "bin_end": -0.0093619113301358,
            "count": 2
           }
          ]
         }
        },
        {
         "name": "prog",
         "dtype": "float64",
         "stats": {
          "unique_count": 5,
          "nan_count": 0,
          "min": "75.0",
          "max": "206.0",
          "histogram": [
           {
            "bin_start": 75,
            "bin_end": 88.1,
            "count": 1
           },
           {
            "bin_start": 88.1,
            "bin_end": 101.2,
            "count": 0
           },
           {
            "bin_start": 101.2,
            "bin_end": 114.3,
            "count": 0
           },
           {
            "bin_start": 114.3,
            "bin_end": 127.4,
            "count": 0
           },
           {
            "bin_start": 127.4,
            "bin_end": 140.5,
            "count": 1
           },
           {
            "bin_start": 140.5,
            "bin_end": 153.6,
            "count": 2
           },
           {
            "bin_start": 153.6,
            "bin_end": 166.7,
            "count": 0
           },
           {
            "bin_start": 166.7,
            "bin_end": 179.8,
            "count": 0
           },
           {
            "bin_start": 179.8,
            "bin_end": 192.89999999999998,
            "count": 0
           },
           {
            "bin_start": 192.89999999999998,
            "bin_end": 206,
            "count": 1
           }
          ]
         }
        },
        {
         "name": "_deepnote_index_column",
         "dtype": "int64"
        }
       ],
       "rows": [
        {
         "age": 0.0380759064334241,
         "sex": 1,
         "bmi": 0.0616962065186885,
         "bp": 0.0218723549949558,
         "s1": -0.0442234984244464,
         "s2": -0.0348207628376986,
         "s3": -0.0434008456520269,
         "s4": -0.00259226199818282,
         "s5": 0.0199084208763183,
         "s6": -0.0176461251598052,
         "prog": 151,
         "_deepnote_index_column": 0
        },
        {
         "age": -0.00188201652779104,
         "sex": 0,
         "bmi": -0.0514740612388061,
         "bp": -0.0263278347173518,
         "s1": -0.00844872411121698,
         "s2": -0.019163339748222,
         "s3": 0.0744115640787594,
         "s4": -0.0394933828740919,
         "s5": -0.0683297436244215,
         "s6": -0.09220404962683,
         "prog": 75,
         "_deepnote_index_column": 1
        },
        {
         "age": 0.0852989062966783,
         "sex": 1,
         "bmi": 0.0444512133365941,
         "bp": -0.00567061055493425,
         "s1": -0.0455994512826475,
         "s2": -0.0341944659141195,
         "s3": -0.0323559322397657,
         "s4": -0.00259226199818282,
         "s5": 0.00286377051894013,
         "s6": -0.0259303389894746,
         "prog": 141,
         "_deepnote_index_column": 2
        },
        {
         "age": -0.0890629393522603,
         "sex": 0,
         "bmi": -0.0115950145052127,
         "bp": -0.0366564467985606,
         "s1": 0.0121905687618,
         "s2": 0.0249905933641021,
         "s3": -0.0360375700438527,
         "s4": 0.0343088588777263,
         "s5": 0.0226920225667445,
         "s6": -0.0093619113301358,
         "prog": 206,
         "_deepnote_index_column": 3
        },
        {
         "age": 0.00538306037424807,
         "sex": 0,
         "bmi": -0.0363846922044735,
         "bp": 0.0218723549949558,
         "s1": 0.00393485161259318,
         "s2": 0.0155961395104161,
         "s3": 0.0081420836051921,
         "s4": -0.00259226199818282,
         "s5": -0.0319914449413559,
         "s6": -0.0466408735636482,
         "prog": 135,
         "_deepnote_index_column": 4
        }
       ]
      },
      "text/plain": "        age  sex       bmi        bp        s1        s2        s3        s4  \\\n0  0.038076  1.0  0.061696  0.021872 -0.044223 -0.034821 -0.043401 -0.002592   \n1 -0.001882  0.0 -0.051474 -0.026328 -0.008449 -0.019163  0.074412 -0.039493   \n2  0.085299  1.0  0.044451 -0.005671 -0.045599 -0.034194 -0.032356 -0.002592   \n3 -0.089063  0.0 -0.011595 -0.036656  0.012191  0.024991 -0.036038  0.034309   \n4  0.005383  0.0 -0.036385  0.021872  0.003935  0.015596  0.008142 -0.002592   \n\n         s5        s6   prog  \n0  0.019908 -0.017646  151.0  \n1 -0.068330 -0.092204   75.0  \n2  0.002864 -0.025930  141.0  \n3  0.022692 -0.009362  206.0  \n4 -0.031991 -0.046641  135.0  ",
      "text/html": "<div>\n<style scoped>\n    .dataframe tbody tr th:only-of-type {\n        vertical-align: middle;\n    }\n\n    .dataframe tbody tr th {\n        vertical-align: top;\n    }\n\n    .dataframe thead th {\n        text-align: right;\n    }\n</style>\n<table border=\"1\" class=\"dataframe\">\n  <thead>\n    <tr style=\"text-align: right;\">\n      <th></th>\n      <th>age</th>\n      <th>sex</th>\n      <th>bmi</th>\n      <th>bp</th>\n      <th>s1</th>\n      <th>s2</th>\n      <th>s3</th>\n      <th>s4</th>\n      <th>s5</th>\n      <th>s6</th>\n      <th>prog</th>\n    </tr>\n  </thead>\n  <tbody>\n    <tr>\n      <th>0</th>\n      <td>0.038076</td>\n      <td>1.0</td>\n      <td>0.061696</td>\n      <td>0.021872</td>\n      <td>-0.044223</td>\n      <td>-0.034821</td>\n      <td>-0.043401</td>\n      <td>-0.002592</td>\n      <td>0.019908</td>\n      <td>-0.017646</td>\n      <td>151.0</td>\n    </tr>\n    <tr>\n      <th>1</th>\n      <td>-0.001882</td>\n      <td>0.0</td>\n      <td>-0.051474</td>\n      <td>-0.026328</td>\n      <td>-0.008449</td>\n      <td>-0.019163</td>\n      <td>0.074412</td>\n      <td>-0.039493</td>\n      <td>-0.068330</td>\n      <td>-0.092204</td>\n      <td>75.0</td>\n    </tr>\n    <tr>\n      <th>2</th>\n      <td>0.085299</td>\n      <td>1.0</td>\n      <td>0.044451</td>\n      <td>-0.005671</td>\n      <td>-0.045599</td>\n      <td>-0.034194</td>\n      <td>-0.032356</td>\n      <td>-0.002592</td>\n      <td>0.002864</td>\n      <td>-0.025930</td>\n      <td>141.0</td>\n    </tr>\n    <tr>\n      <th>3</th>\n      <td>-0.089063</td>\n      <td>0.0</td>\n      <td>-0.011595</td>\n      <td>-0.036656</td>\n      <td>0.012191</td>\n      <td>0.024991</td>\n      <td>-0.036038</td>\n      <td>0.034309</td>\n      <td>0.022692</td>\n      <td>-0.009362</td>\n      <td>206.0</td>\n    </tr>\n    <tr>\n      <th>4</th>\n      <td>0.005383</td>\n      <td>0.0</td>\n      <td>-0.036385</td>\n      <td>0.021872</td>\n      <td>0.003935</td>\n      <td>0.015596</td>\n      <td>0.008142</td>\n      <td>-0.002592</td>\n      <td>-0.031991</td>\n      <td>-0.046641</td>\n      <td>135.0</td>\n    </tr>\n  </tbody>\n</table>\n</div>"
     },
     "metadata": {}
    }
   ]
  },
  {
   "cell_type": "code",
   "metadata": {
    "cell_id": "e173480afd5841a494b328810db57bb6",
    "tags": [],
    "deepnote_to_be_reexecuted": false,
    "source_hash": "999de48e",
    "execution_start": 1653307748156,
    "execution_millis": 53,
    "deepnote_cell_type": "code",
    "deepnote_cell_height": 156,
    "deepnote_output_heights": [
     60
    ]
   },
   "source": "df.sex.value_counts()/len(df) #proportions of genders",
   "execution_count": 148,
   "outputs": [
    {
     "output_type": "execute_result",
     "execution_count": 148,
     "data": {
      "text/plain": "0.0    0.531674\n1.0    0.468326\nName: sex, dtype: float64"
     },
     "metadata": {}
    }
   ]
  },
  {
   "cell_type": "code",
   "metadata": {
    "cell_id": "593532216f4247659b8af2ae924f163c",
    "tags": [],
    "deepnote_to_be_reexecuted": false,
    "source_hash": "2805c75c",
    "execution_start": 1653306549444,
    "execution_millis": 767,
    "deepnote_cell_type": "code",
    "deepnote_cell_height": 397.66668701171875,
    "deepnote_output_heights": [
     21,
     250
    ]
   },
   "source": "sns.violinplot(data=df.iloc[:,:-1])",
   "execution_count": 143,
   "outputs": [
    {
     "output_type": "execute_result",
     "execution_count": 143,
     "data": {
      "text/plain": "<AxesSubplot:>"
     },
     "metadata": {}
    },
    {
     "data": {
      "text/plain": "<Figure size 432x288 with 1 Axes>",
      "image/png": "[encoded data removed]"
     },
     "metadata": {
      "needs_background": "light",
      "image/png": {
       "width": 386,
       "height": 248
      }
     },
     "output_type": "display_data"
    }
   ]
  },
  {
   "cell_type": "markdown",
   "source": "### Linear regression model",
   "metadata": {
    "cell_id": "7c3b2a11fe3e4597a96205bf54d5ba89",
    "tags": [],
    "is_collapsed": false,
    "deepnote_cell_type": "text-cell-h3"
   }
  },
  {
   "cell_type": "code",
   "metadata": {
    "cell_id": "de7e1e2d3a774662bf0ff21c216241f9",
    "tags": [],
    "deepnote_to_be_reexecuted": false,
    "source_hash": "7e722be4",
    "execution_start": 1653303450802,
    "execution_millis": 0,
    "deepnote_cell_type": "code",
    "deepnote_cell_height": 170.3333282470703
   },
   "source": "from sklearn.model_selection import train_test_split\n\nX = diabetes.data \ny = diabetes.target\n\nX_train, X_test, y_train, y_test = train_test_split(X, y,train_size=0.8,random_state=42)",
   "execution_count": 45,
   "outputs": []
  },
  {
   "cell_type": "code",
   "metadata": {
    "cell_id": "2698ced2302a48afae5c64b9cda19083",
    "tags": [],
    "deepnote_to_be_reexecuted": false,
    "source_hash": "c1be88e9",
    "execution_start": 1653303452811,
    "execution_millis": 446,
    "deepnote_cell_type": "code",
    "deepnote_cell_height": 188.46665954589844
   },
   "source": "for s in (X_train, y_train, X_test, y_test):\n    print(s.shape)",
   "execution_count": 46,
   "outputs": [
    {
     "name": "stdout",
     "text": "(353, 10)\n(353,)\n(89, 10)\n(89,)\n",
     "output_type": "stream"
    }
   ]
  },
  {
   "cell_type": "code",
   "metadata": {
    "cell_id": "33d83ed837b040c991f0514f22d6d516",
    "tags": [],
    "deepnote_to_be_reexecuted": false,
    "source_hash": "11e6c85f",
    "execution_start": 1653303496177,
    "execution_millis": 5,
    "deepnote_cell_type": "code",
    "deepnote_cell_height": 98.33332824707031
   },
   "source": "linreg = LinearRegression()\nmodel = linreg.fit(X_train,y_train)",
   "execution_count": 47,
   "outputs": []
  },
  {
   "cell_type": "code",
   "metadata": {
    "cell_id": "e646e2fa1ae8483cb76f997f3420d417",
    "tags": [],
    "deepnote_to_be_reexecuted": false,
    "source_hash": "e947573c",
    "execution_start": 1653305181180,
    "execution_millis": 421,
    "deepnote_cell_type": "code",
    "deepnote_cell_height": 434,
    "deepnote_output_heights": [
     266
    ]
   },
   "source": "# visualize the coefficients\nplt.barh(range(model.coef_.shape[0]),model.coef_)\nplt.yticks(ticks=range(10),labels=diabetes.feature_names)\nplt.title(\"Linear regression coefficients\")\nplt.show()",
   "execution_count": 94,
   "outputs": [
    {
     "data": {
      "text/plain": "<Figure size 432x288 with 1 Axes>",
      "image/png": "[encoded data removed]"
     },
     "metadata": {
      "needs_background": "light",
      "image/png": {
       "width": 374,
       "height": 264
      }
     },
     "output_type": "display_data"
    }
   ]
  },
  {
   "cell_type": "code",
   "metadata": {
    "cell_id": "6cb21870eca24e008c552a92d9ad6df2",
    "tags": [],
    "deepnote_to_be_reexecuted": false,
    "source_hash": "508e6cf0",
    "execution_start": 1653303613894,
    "execution_millis": 79,
    "deepnote_cell_type": "code",
    "deepnote_cell_height": 343.66668701171875,
    "deepnote_output_heights": [
     60
    ]
   },
   "source": "importance = model.coef_\n# summarize feature importance\nfor i,v in enumerate(importance):\n\tprint('Feature: %0d, Score: %.5f' % (i,v))",
   "execution_count": 54,
   "outputs": [
    {
     "name": "stdout",
     "text": "Feature: 0, Score: 37.90031\nFeature: 1, Score: -241.96625\nFeature: 2, Score: 542.42575\nFeature: 3, Score: 347.70831\nFeature: 4, Score: -931.46126\nFeature: 5, Score: 518.04406\nFeature: 6, Score: 163.40353\nFeature: 7, Score: 275.31004\nFeature: 8, Score: 736.18910\nFeature: 9, Score: 48.67112\n",
     "output_type": "stream"
    }
   ]
  },
  {
   "cell_type": "code",
   "metadata": {
    "cell_id": "70dd7f72f52946f1aa8cfd60ab48b15b",
    "tags": [],
    "deepnote_to_be_reexecuted": false,
    "source_hash": "9d46950",
    "execution_start": 1653303770622,
    "execution_millis": 0,
    "deepnote_cell_type": "code",
    "deepnote_cell_height": 80.33332824707031
   },
   "source": "pred = linreg.predict(X_test)",
   "execution_count": 58,
   "outputs": []
  },
  {
   "cell_type": "code",
   "metadata": {
    "cell_id": "bd88cf3565d24b338c885979a8b5820b",
    "tags": [],
    "deepnote_to_be_reexecuted": false,
    "source_hash": "4114fa61",
    "execution_start": 1653303809210,
    "execution_millis": 1,
    "deepnote_cell_type": "code",
    "deepnote_cell_height": 80.33332824707031
   },
   "source": "from sklearn.metrics import mean_squared_error, r2_score",
   "execution_count": 60,
   "outputs": []
  },
  {
   "cell_type": "code",
   "metadata": {
    "cell_id": "db225ad2957b42348d82cb2f19df6432",
    "tags": [],
    "deepnote_to_be_reexecuted": false,
    "source_hash": "e739f186",
    "execution_start": 1653303844629,
    "execution_millis": 9,
    "owner_user_id": "4a76e445-b191-44b7-b643-ec0c29715df9",
    "deepnote_cell_type": "code",
    "deepnote_cell_height": 148.73333740234375
   },
   "source": "print(\"Mean squared error: %.2f\" % mean_squared_error(y_test, pred))\nprint(\"Coefficient of determination: %.2f\" % r2_score(y_test, pred))",
   "execution_count": 63,
   "outputs": [
    {
     "name": "stdout",
     "text": "Mean squared error: 2900.17\nCoefficient of determination: 0.45\n",
     "output_type": "stream"
    }
   ]
  },
  {
   "cell_type": "code",
   "metadata": {
    "cell_id": "25ae7dc05758471d9f30dc765e8c2eca",
    "tags": [],
    "deepnote_to_be_reexecuted": false,
    "source_hash": "67e82e50",
    "execution_start": 1653304627320,
    "execution_millis": 871,
    "deepnote_cell_type": "code",
    "deepnote_cell_height": 468,
    "deepnote_output_heights": [
     264,
     264,
     21,
     254
    ]
   },
   "source": "fig, ax = plt.subplots()\nax.scatter(y_test, pred,s=1)\nax.plot([y_test.min(), y_test.max()], [y_test.min(), y_test.max()], \"k--\", lw=1)\nax.set_xlabel(\"Measured\")\nax.set_ylabel(\"Predicted\")\nax.text(30,300,\"R^2= %.3f\" % r2_score(y_test, pred))\nplt.show()",
   "execution_count": 89,
   "outputs": [
    {
     "data": {
      "text/plain": "<Figure size 432x288 with 1 Axes>",
      "image/png": "[encoded data removed]"
     },
     "metadata": {
      "needs_background": "light",
      "image/png": {
       "width": 389,
       "height": 262
      }
     },
     "output_type": "display_data"
    }
   ]
  },
  {
   "cell_type": "markdown",
   "source": "### Decision tree model",
   "metadata": {
    "cell_id": "6a279f4f4ad24699abf3b72d0239747f",
    "tags": [],
    "is_collapsed": false,
    "deepnote_cell_type": "text-cell-h3"
   }
  },
  {
   "cell_type": "code",
   "metadata": {
    "cell_id": "124a7dfcee79416c9cf9a5ed4ee4b27a",
    "tags": [],
    "deepnote_to_be_reexecuted": false,
    "source_hash": "67bcf3d2",
    "execution_start": 1653303870177,
    "execution_millis": 0,
    "deepnote_cell_type": "code",
    "deepnote_cell_height": 152.3333282470703
   },
   "source": "from sklearn.model_selection import train_test_split\nfrom sklearn.tree import DecisionTreeClassifier\nfrom sklearn.ensemble import RandomForestClassifier\nfrom sklearn.model_selection import GridSearchCV\n",
   "execution_count": 64,
   "outputs": []
  },
  {
   "cell_type": "code",
   "metadata": {
    "cell_id": "2c9c7da6d89c49e18b9ca29312a8d240",
    "tags": [],
    "deepnote_to_be_reexecuted": false,
    "source_hash": "c72a7071",
    "execution_start": 1653303187921,
    "execution_millis": 3,
    "deepnote_cell_type": "code",
    "deepnote_cell_height": 98.33332824707031
   },
   "source": " X_train, X_test, y_train, y_test = train_test_split(\n...     X, y, test_size=0.5, random_state=42)",
   "execution_count": 38,
   "outputs": []
  },
  {
   "cell_type": "code",
   "metadata": {
    "cell_id": "daf89287e2ef4b739fba721c2567f686",
    "tags": [],
    "deepnote_to_be_reexecuted": false,
    "source_hash": "2ca3e9e",
    "execution_start": 1653303190621,
    "execution_millis": 2,
    "deepnote_cell_type": "code",
    "deepnote_cell_height": 98.33332824707031
   },
   "source": "model=DecisionTreeClassifier()\nparameters={'criterion':[\"entropy\"], 'splitter':[\"best\"], 'max_depth':[2,3,4], 'min_samples_split':[2,3,4], 'min_samples_leaf':[1,2]}",
   "execution_count": 39,
   "outputs": []
  },
  {
   "cell_type": "code",
   "metadata": {
    "cell_id": "f925998767ff4386b30535fc4811c492",
    "tags": [],
    "deepnote_to_be_reexecuted": false,
    "source_hash": "e1da9aee",
    "execution_start": 1653303873563,
    "execution_millis": 4,
    "deepnote_cell_type": "code",
    "deepnote_cell_height": 80.33332824707031
   },
   "source": "dankmemes=GridSearchCV(model, parameters)",
   "execution_count": 65,
   "outputs": []
  },
  {
   "cell_type": "code",
   "metadata": {
    "cell_id": "5989cba580b04449b0bd4755c7500230",
    "tags": [],
    "deepnote_to_be_reexecuted": false,
    "source_hash": "513c062c",
    "execution_start": 1653304358024,
    "execution_millis": 45,
    "deepnote_cell_type": "code",
    "deepnote_cell_height": 162.39999389648438
   },
   "source": "#dankmemes.best_params_",
   "execution_count": 86,
   "outputs": [
    {
     "output_type": "error",
     "ename": "ValueError",
     "evalue": "Invalid parameter criterion for estimator LinearRegression(). Check the list of available parameters with `estimator.get_params().keys()`.",
     "traceback": [
      "\u001b[0;31m---------------------------------------------------------------------------\u001b[0m",
      "\u001b[0;31mValueError\u001b[0m                                Traceback (most recent call last)",
      "\u001b[0;32m<ipython-input-86-cd17ab5b00ee>\u001b[0m in \u001b[0;36m<module>\u001b[0;34m\u001b[0m\n\u001b[0;32m----> 1\u001b[0;31m \u001b[0mdankmemes\u001b[0m\u001b[0;34m.\u001b[0m\u001b[0mfit\u001b[0m\u001b[0;34m(\u001b[0m\u001b[0mpred\u001b[0m\u001b[0;34m)\u001b[0m\u001b[0;34m\u001b[0m\u001b[0;34m\u001b[0m\u001b[0m\n\u001b[0m\u001b[1;32m      2\u001b[0m \u001b[0;31m#dankmemes.best_params_\u001b[0m\u001b[0;34m\u001b[0m\u001b[0;34m\u001b[0m\u001b[0;34m\u001b[0m\u001b[0m\n",
      "\u001b[0;32m/shared-libs/python3.7/py/lib/python3.7/site-packages/sklearn/model_selection/_search.py\u001b[0m in \u001b[0;36mfit\u001b[0;34m(self, X, y, groups, **fit_params)\u001b[0m\n\u001b[1;32m    889\u001b[0m                 \u001b[0;32mreturn\u001b[0m \u001b[0mresults\u001b[0m\u001b[0;34m\u001b[0m\u001b[0;34m\u001b[0m\u001b[0m\n\u001b[1;32m    890\u001b[0m \u001b[0;34m\u001b[0m\u001b[0m\n\u001b[0;32m--> 891\u001b[0;31m             \u001b[0mself\u001b[0m\u001b[0;34m.\u001b[0m\u001b[0m_run_search\u001b[0m\u001b[0;34m(\u001b[0m\u001b[0mevaluate_candidates\u001b[0m\u001b[0;34m)\u001b[0m\u001b[0;34m\u001b[0m\u001b[0;34m\u001b[0m\u001b[0m\n\u001b[0m\u001b[1;32m    892\u001b[0m \u001b[0;34m\u001b[0m\u001b[0m\n\u001b[1;32m    893\u001b[0m             \u001b[0;31m# multimetric is determined here because in the case of a callable\u001b[0m\u001b[0;34m\u001b[0m\u001b[0;34m\u001b[0m\u001b[0;34m\u001b[0m\u001b[0m\n",
      "\u001b[0;32m/shared-libs/python3.7/py/lib/python3.7/site-packages/sklearn/model_selection/_search.py\u001b[0m in \u001b[0;36m_run_search\u001b[0;34m(self, evaluate_candidates)\u001b[0m\n\u001b[1;32m   1390\u001b[0m     \u001b[0;32mdef\u001b[0m \u001b[0m_run_search\u001b[0m\u001b[0;34m(\u001b[0m\u001b[0mself\u001b[0m\u001b[0;34m,\u001b[0m \u001b[0mevaluate_candidates\u001b[0m\u001b[0;34m)\u001b[0m\u001b[0;34m:\u001b[0m\u001b[0;34m\u001b[0m\u001b[0;34m\u001b[0m\u001b[0m\n\u001b[1;32m   1391\u001b[0m         \u001b[0;34m\"\"\"Search all candidates in param_grid\"\"\"\u001b[0m\u001b[0;34m\u001b[0m\u001b[0;34m\u001b[0m\u001b[0m\n\u001b[0;32m-> 1392\u001b[0;31m         \u001b[0mevaluate_candidates\u001b[0m\u001b[0;34m(\u001b[0m\u001b[0mParameterGrid\u001b[0m\u001b[0;34m(\u001b[0m\u001b[0mself\u001b[0m\u001b[0;34m.\u001b[0m\u001b[0mparam_grid\u001b[0m\u001b[0;34m)\u001b[0m\u001b[0;34m)\u001b[0m\u001b[0;34m\u001b[0m\u001b[0;34m\u001b[0m\u001b[0m\n\u001b[0m\u001b[1;32m   1393\u001b[0m \u001b[0;34m\u001b[0m\u001b[0m\n\u001b[1;32m   1394\u001b[0m \u001b[0;34m\u001b[0m\u001b[0m\n",
      "\u001b[0;32m/shared-libs/python3.7/py/lib/python3.7/site-packages/sklearn/model_selection/_search.py\u001b[0m in \u001b[0;36mevaluate_candidates\u001b[0;34m(candidate_params, cv, more_results)\u001b[0m\n\u001b[1;32m    849\u001b[0m                     )\n\u001b[1;32m    850\u001b[0m                     for (cand_idx, parameters), (split_idx, (train, test)) in product(\n\u001b[0;32m--> 851\u001b[0;31m                         \u001b[0menumerate\u001b[0m\u001b[0;34m(\u001b[0m\u001b[0mcandidate_params\u001b[0m\u001b[0;34m)\u001b[0m\u001b[0;34m,\u001b[0m \u001b[0menumerate\u001b[0m\u001b[0;34m(\u001b[0m\u001b[0mcv\u001b[0m\u001b[0;34m.\u001b[0m\u001b[0msplit\u001b[0m\u001b[0;34m(\u001b[0m\u001b[0mX\u001b[0m\u001b[0;34m,\u001b[0m \u001b[0my\u001b[0m\u001b[0;34m,\u001b[0m \u001b[0mgroups\u001b[0m\u001b[0;34m)\u001b[0m\u001b[0;34m)\u001b[0m\u001b[0;34m\u001b[0m\u001b[0;34m\u001b[0m\u001b[0m\n\u001b[0m\u001b[1;32m    852\u001b[0m                     )\n\u001b[1;32m    853\u001b[0m                 )\n",
      "\u001b[0;32m/shared-libs/python3.7/py/lib/python3.7/site-packages/joblib/parallel.py\u001b[0m in \u001b[0;36m__call__\u001b[0;34m(self, iterable)\u001b[0m\n\u001b[1;32m   1041\u001b[0m             \u001b[0;31m# remaining jobs.\u001b[0m\u001b[0;34m\u001b[0m\u001b[0;34m\u001b[0m\u001b[0;34m\u001b[0m\u001b[0m\n\u001b[1;32m   1042\u001b[0m             \u001b[0mself\u001b[0m\u001b[0;34m.\u001b[0m\u001b[0m_iterating\u001b[0m \u001b[0;34m=\u001b[0m \u001b[0;32mFalse\u001b[0m\u001b[0;34m\u001b[0m\u001b[0;34m\u001b[0m\u001b[0m\n\u001b[0;32m-> 1043\u001b[0;31m             \u001b[0;32mif\u001b[0m \u001b[0mself\u001b[0m\u001b[0;34m.\u001b[0m\u001b[0mdispatch_one_batch\u001b[0m\u001b[0;34m(\u001b[0m\u001b[0miterator\u001b[0m\u001b[0;34m)\u001b[0m\u001b[0;34m:\u001b[0m\u001b[0;34m\u001b[0m\u001b[0;34m\u001b[0m\u001b[0m\n\u001b[0m\u001b[1;32m   1044\u001b[0m                 \u001b[0mself\u001b[0m\u001b[0;34m.\u001b[0m\u001b[0m_iterating\u001b[0m \u001b[0;34m=\u001b[0m \u001b[0mself\u001b[0m\u001b[0;34m.\u001b[0m\u001b[0m_original_iterator\u001b[0m \u001b[0;32mis\u001b[0m \u001b[0;32mnot\u001b[0m \u001b[0;32mNone\u001b[0m\u001b[0;34m\u001b[0m\u001b[0;34m\u001b[0m\u001b[0m\n\u001b[1;32m   1045\u001b[0m \u001b[0;34m\u001b[0m\u001b[0m\n",
      "\u001b[0;32m/shared-libs/python3.7/py/lib/python3.7/site-packages/joblib/parallel.py\u001b[0m in \u001b[0;36mdispatch_one_batch\u001b[0;34m(self, iterator)\u001b[0m\n\u001b[1;32m    859\u001b[0m                 \u001b[0;32mreturn\u001b[0m \u001b[0;32mFalse\u001b[0m\u001b[0;34m\u001b[0m\u001b[0;34m\u001b[0m\u001b[0m\n\u001b[1;32m    860\u001b[0m             \u001b[0;32melse\u001b[0m\u001b[0;34m:\u001b[0m\u001b[0;34m\u001b[0m\u001b[0;34m\u001b[0m\u001b[0m\n\u001b[0;32m--> 861\u001b[0;31m                 \u001b[0mself\u001b[0m\u001b[0;34m.\u001b[0m\u001b[0m_dispatch\u001b[0m\u001b[0;34m(\u001b[0m\u001b[0mtasks\u001b[0m\u001b[0;34m)\u001b[0m\u001b[0;34m\u001b[0m\u001b[0;34m\u001b[0m\u001b[0m\n\u001b[0m\u001b[1;32m    862\u001b[0m                 \u001b[0;32mreturn\u001b[0m \u001b[0;32mTrue\u001b[0m\u001b[0;34m\u001b[0m\u001b[0;34m\u001b[0m\u001b[0m\n\u001b[1;32m    863\u001b[0m \u001b[0;34m\u001b[0m\u001b[0m\n",
      "\u001b[0;32m/shared-libs/python3.7/py/lib/python3.7/site-packages/joblib/parallel.py\u001b[0m in \u001b[0;36m_dispatch\u001b[0;34m(self, batch)\u001b[0m\n\u001b[1;32m    777\u001b[0m         \u001b[0;32mwith\u001b[0m \u001b[0mself\u001b[0m\u001b[0;34m.\u001b[0m\u001b[0m_lock\u001b[0m\u001b[0;34m:\u001b[0m\u001b[0;34m\u001b[0m\u001b[0;34m\u001b[0m\u001b[0m\n\u001b[1;32m    778\u001b[0m             \u001b[0mjob_idx\u001b[0m \u001b[0;34m=\u001b[0m \u001b[0mlen\u001b[0m\u001b[0;34m(\u001b[0m\u001b[0mself\u001b[0m\u001b[0;34m.\u001b[0m\u001b[0m_jobs\u001b[0m\u001b[0;34m)\u001b[0m\u001b[0;34m\u001b[0m\u001b[0;34m\u001b[0m\u001b[0m\n\u001b[0;32m--> 779\u001b[0;31m             \u001b[0mjob\u001b[0m \u001b[0;34m=\u001b[0m \u001b[0mself\u001b[0m\u001b[0;34m.\u001b[0m\u001b[0m_backend\u001b[0m\u001b[0;34m.\u001b[0m\u001b[0mapply_async\u001b[0m\u001b[0;34m(\u001b[0m\u001b[0mbatch\u001b[0m\u001b[0;34m,\u001b[0m \u001b[0mcallback\u001b[0m\u001b[0;34m=\u001b[0m\u001b[0mcb\u001b[0m\u001b[0;34m)\u001b[0m\u001b[0;34m\u001b[0m\u001b[0;34m\u001b[0m\u001b[0m\n\u001b[0m\u001b[1;32m    780\u001b[0m             \u001b[0;31m# A job can complete so quickly than its callback is\u001b[0m\u001b[0;34m\u001b[0m\u001b[0;34m\u001b[0m\u001b[0;34m\u001b[0m\u001b[0m\n\u001b[1;32m    781\u001b[0m             \u001b[0;31m# called before we get here, causing self._jobs to\u001b[0m\u001b[0;34m\u001b[0m\u001b[0;34m\u001b[0m\u001b[0;34m\u001b[0m\u001b[0m\n",
      "\u001b[0;32m/shared-libs/python3.7/py/lib/python3.7/site-packages/joblib/_parallel_backends.py\u001b[0m in \u001b[0;36mapply_async\u001b[0;34m(self, func, callback)\u001b[0m\n\u001b[1;32m    206\u001b[0m     \u001b[0;32mdef\u001b[0m \u001b[0mapply_async\u001b[0m\u001b[0;34m(\u001b[0m\u001b[0mself\u001b[0m\u001b[0;34m,\u001b[0m \u001b[0mfunc\u001b[0m\u001b[0;34m,\u001b[0m \u001b[0mcallback\u001b[0m\u001b[0;34m=\u001b[0m\u001b[0;32mNone\u001b[0m\u001b[0;34m)\u001b[0m\u001b[0;34m:\u001b[0m\u001b[0;34m\u001b[0m\u001b[0;34m\u001b[0m\u001b[0m\n\u001b[1;32m    207\u001b[0m         \u001b[0;34m\"\"\"Schedule a func to be run\"\"\"\u001b[0m\u001b[0;34m\u001b[0m\u001b[0;34m\u001b[0m\u001b[0m\n\u001b[0;32m--> 208\u001b[0;31m         \u001b[0mresult\u001b[0m \u001b[0;34m=\u001b[0m \u001b[0mImmediateResult\u001b[0m\u001b[0;34m(\u001b[0m\u001b[0mfunc\u001b[0m\u001b[0;34m)\u001b[0m\u001b[0;34m\u001b[0m\u001b[0;34m\u001b[0m\u001b[0m\n\u001b[0m\u001b[1;32m    209\u001b[0m         \u001b[0;32mif\u001b[0m \u001b[0mcallback\u001b[0m\u001b[0;34m:\u001b[0m\u001b[0;34m\u001b[0m\u001b[0;34m\u001b[0m\u001b[0m\n\u001b[1;32m    210\u001b[0m             \u001b[0mcallback\u001b[0m\u001b[0;34m(\u001b[0m\u001b[0mresult\u001b[0m\u001b[0;34m)\u001b[0m\u001b[0;34m\u001b[0m\u001b[0;34m\u001b[0m\u001b[0m\n",
      "\u001b[0;32m/shared-libs/python3.7/py/lib/python3.7/site-packages/joblib/_parallel_backends.py\u001b[0m in \u001b[0;36m__init__\u001b[0;34m(self, batch)\u001b[0m\n\u001b[1;32m    570\u001b[0m         \u001b[0;31m# Don't delay the application, to avoid keeping the input\u001b[0m\u001b[0;34m\u001b[0m\u001b[0;34m\u001b[0m\u001b[0;34m\u001b[0m\u001b[0m\n\u001b[1;32m    571\u001b[0m         \u001b[0;31m# arguments in memory\u001b[0m\u001b[0;34m\u001b[0m\u001b[0;34m\u001b[0m\u001b[0;34m\u001b[0m\u001b[0m\n\u001b[0;32m--> 572\u001b[0;31m         \u001b[0mself\u001b[0m\u001b[0;34m.\u001b[0m\u001b[0mresults\u001b[0m \u001b[0;34m=\u001b[0m \u001b[0mbatch\u001b[0m\u001b[0;34m(\u001b[0m\u001b[0;34m)\u001b[0m\u001b[0;34m\u001b[0m\u001b[0;34m\u001b[0m\u001b[0m\n\u001b[0m\u001b[1;32m    573\u001b[0m \u001b[0;34m\u001b[0m\u001b[0m\n\u001b[1;32m    574\u001b[0m     \u001b[0;32mdef\u001b[0m \u001b[0mget\u001b[0m\u001b[0;34m(\u001b[0m\u001b[0mself\u001b[0m\u001b[0;34m)\u001b[0m\u001b[0;34m:\u001b[0m\u001b[0;34m\u001b[0m\u001b[0;34m\u001b[0m\u001b[0m\n",
      "\u001b[0;32m/shared-libs/python3.7/py/lib/python3.7/site-packages/joblib/parallel.py\u001b[0m in \u001b[0;36m__call__\u001b[0;34m(self)\u001b[0m\n\u001b[1;32m    261\u001b[0m         \u001b[0;32mwith\u001b[0m \u001b[0mparallel_backend\u001b[0m\u001b[0;34m(\u001b[0m\u001b[0mself\u001b[0m\u001b[0;34m.\u001b[0m\u001b[0m_backend\u001b[0m\u001b[0;34m,\u001b[0m \u001b[0mn_jobs\u001b[0m\u001b[0;34m=\u001b[0m\u001b[0mself\u001b[0m\u001b[0;34m.\u001b[0m\u001b[0m_n_jobs\u001b[0m\u001b[0;34m)\u001b[0m\u001b[0;34m:\u001b[0m\u001b[0;34m\u001b[0m\u001b[0;34m\u001b[0m\u001b[0m\n\u001b[1;32m    262\u001b[0m             return [func(*args, **kwargs)\n\u001b[0;32m--> 263\u001b[0;31m                     for func, args, kwargs in self.items]\n\u001b[0m\u001b[1;32m    264\u001b[0m \u001b[0;34m\u001b[0m\u001b[0m\n\u001b[1;32m    265\u001b[0m     \u001b[0;32mdef\u001b[0m \u001b[0m__reduce__\u001b[0m\u001b[0;34m(\u001b[0m\u001b[0mself\u001b[0m\u001b[0;34m)\u001b[0m\u001b[0;34m:\u001b[0m\u001b[0;34m\u001b[0m\u001b[0;34m\u001b[0m\u001b[0m\n",
      "\u001b[0;32m/shared-libs/python3.7/py/lib/python3.7/site-packages/joblib/parallel.py\u001b[0m in \u001b[0;36m<listcomp>\u001b[0;34m(.0)\u001b[0m\n\u001b[1;32m    261\u001b[0m         \u001b[0;32mwith\u001b[0m \u001b[0mparallel_backend\u001b[0m\u001b[0;34m(\u001b[0m\u001b[0mself\u001b[0m\u001b[0;34m.\u001b[0m\u001b[0m_backend\u001b[0m\u001b[0;34m,\u001b[0m \u001b[0mn_jobs\u001b[0m\u001b[0;34m=\u001b[0m\u001b[0mself\u001b[0m\u001b[0;34m.\u001b[0m\u001b[0m_n_jobs\u001b[0m\u001b[0;34m)\u001b[0m\u001b[0;34m:\u001b[0m\u001b[0;34m\u001b[0m\u001b[0;34m\u001b[0m\u001b[0m\n\u001b[1;32m    262\u001b[0m             return [func(*args, **kwargs)\n\u001b[0;32m--> 263\u001b[0;31m                     for func, args, kwargs in self.items]\n\u001b[0m\u001b[1;32m    264\u001b[0m \u001b[0;34m\u001b[0m\u001b[0m\n\u001b[1;32m    265\u001b[0m     \u001b[0;32mdef\u001b[0m \u001b[0m__reduce__\u001b[0m\u001b[0;34m(\u001b[0m\u001b[0mself\u001b[0m\u001b[0;34m)\u001b[0m\u001b[0;34m:\u001b[0m\u001b[0;34m\u001b[0m\u001b[0;34m\u001b[0m\u001b[0m\n",
      "\u001b[0;32m/shared-libs/python3.7/py/lib/python3.7/site-packages/sklearn/utils/fixes.py\u001b[0m in \u001b[0;36m__call__\u001b[0;34m(self, *args, **kwargs)\u001b[0m\n\u001b[1;32m    214\u001b[0m     \u001b[0;32mdef\u001b[0m \u001b[0m__call__\u001b[0m\u001b[0;34m(\u001b[0m\u001b[0mself\u001b[0m\u001b[0;34m,\u001b[0m \u001b[0;34m*\u001b[0m\u001b[0margs\u001b[0m\u001b[0;34m,\u001b[0m \u001b[0;34m**\u001b[0m\u001b[0mkwargs\u001b[0m\u001b[0;34m)\u001b[0m\u001b[0;34m:\u001b[0m\u001b[0;34m\u001b[0m\u001b[0;34m\u001b[0m\u001b[0m\n\u001b[1;32m    215\u001b[0m         \u001b[0;32mwith\u001b[0m \u001b[0mconfig_context\u001b[0m\u001b[0;34m(\u001b[0m\u001b[0;34m**\u001b[0m\u001b[0mself\u001b[0m\u001b[0;34m.\u001b[0m\u001b[0mconfig\u001b[0m\u001b[0;34m)\u001b[0m\u001b[0;34m:\u001b[0m\u001b[0;34m\u001b[0m\u001b[0;34m\u001b[0m\u001b[0m\n\u001b[0;32m--> 216\u001b[0;31m             \u001b[0;32mreturn\u001b[0m \u001b[0mself\u001b[0m\u001b[0;34m.\u001b[0m\u001b[0mfunction\u001b[0m\u001b[0;34m(\u001b[0m\u001b[0;34m*\u001b[0m\u001b[0margs\u001b[0m\u001b[0;34m,\u001b[0m \u001b[0;34m**\u001b[0m\u001b[0mkwargs\u001b[0m\u001b[0;34m)\u001b[0m\u001b[0;34m\u001b[0m\u001b[0;34m\u001b[0m\u001b[0m\n\u001b[0m\u001b[1;32m    217\u001b[0m \u001b[0;34m\u001b[0m\u001b[0m\n\u001b[1;32m    218\u001b[0m \u001b[0;34m\u001b[0m\u001b[0m\n",
      "\u001b[0;32m/shared-libs/python3.7/py/lib/python3.7/site-packages/sklearn/model_selection/_validation.py\u001b[0m in \u001b[0;36m_fit_and_score\u001b[0;34m(estimator, X, y, scorer, train, test, verbose, parameters, fit_params, return_train_score, return_parameters, return_n_test_samples, return_times, return_estimator, split_progress, candidate_progress, error_score)\u001b[0m\n\u001b[1;32m    666\u001b[0m             \u001b[0mcloned_parameters\u001b[0m\u001b[0;34m[\u001b[0m\u001b[0mk\u001b[0m\u001b[0;34m]\u001b[0m \u001b[0;34m=\u001b[0m \u001b[0mclone\u001b[0m\u001b[0;34m(\u001b[0m\u001b[0mv\u001b[0m\u001b[0;34m,\u001b[0m \u001b[0msafe\u001b[0m\u001b[0;34m=\u001b[0m\u001b[0;32mFalse\u001b[0m\u001b[0;34m)\u001b[0m\u001b[0;34m\u001b[0m\u001b[0;34m\u001b[0m\u001b[0m\n\u001b[1;32m    667\u001b[0m \u001b[0;34m\u001b[0m\u001b[0m\n\u001b[0;32m--> 668\u001b[0;31m         \u001b[0mestimator\u001b[0m \u001b[0;34m=\u001b[0m \u001b[0mestimator\u001b[0m\u001b[0;34m.\u001b[0m\u001b[0mset_params\u001b[0m\u001b[0;34m(\u001b[0m\u001b[0;34m**\u001b[0m\u001b[0mcloned_parameters\u001b[0m\u001b[0;34m)\u001b[0m\u001b[0;34m\u001b[0m\u001b[0;34m\u001b[0m\u001b[0m\n\u001b[0m\u001b[1;32m    669\u001b[0m \u001b[0;34m\u001b[0m\u001b[0m\n\u001b[1;32m    670\u001b[0m     \u001b[0mstart_time\u001b[0m \u001b[0;34m=\u001b[0m \u001b[0mtime\u001b[0m\u001b[0;34m.\u001b[0m\u001b[0mtime\u001b[0m\u001b[0;34m(\u001b[0m\u001b[0;34m)\u001b[0m\u001b[0;34m\u001b[0m\u001b[0;34m\u001b[0m\u001b[0m\n",
      "\u001b[0;32m/shared-libs/python3.7/py/lib/python3.7/site-packages/sklearn/base.py\u001b[0m in \u001b[0;36mset_params\u001b[0;34m(self, **params)\u001b[0m\n\u001b[1;32m    246\u001b[0m                     \u001b[0;34m\"Invalid parameter %s for estimator %s. \"\u001b[0m\u001b[0;34m\u001b[0m\u001b[0;34m\u001b[0m\u001b[0m\n\u001b[1;32m    247\u001b[0m                     \u001b[0;34m\"Check the list of available parameters \"\u001b[0m\u001b[0;34m\u001b[0m\u001b[0;34m\u001b[0m\u001b[0m\n\u001b[0;32m--> 248\u001b[0;31m                     \u001b[0;34m\"with `estimator.get_params().keys()`.\"\u001b[0m \u001b[0;34m%\u001b[0m \u001b[0;34m(\u001b[0m\u001b[0mkey\u001b[0m\u001b[0;34m,\u001b[0m \u001b[0mself\u001b[0m\u001b[0;34m)\u001b[0m\u001b[0;34m\u001b[0m\u001b[0;34m\u001b[0m\u001b[0m\n\u001b[0m\u001b[1;32m    249\u001b[0m                 )\n\u001b[1;32m    250\u001b[0m \u001b[0;34m\u001b[0m\u001b[0m\n",
      "\u001b[0;31mValueError\u001b[0m: Invalid parameter criterion for estimator LinearRegression(). Check the list of available parameters with `estimator.get_params().keys()`."
     ]
    }
   ]
  },
  {
   "cell_type": "markdown",
   "source": "<a style='text-decoration:none;line-height:16px;display:flex;color:#5B5B62;padding:10px;justify-content:end;' href='https://deepnote.com?utm_source=created-in-deepnote-cell&projectId=58120cee-a96d-431f-b1b0-fbb581c5808e' target=\"_blank\">\n<img alt='Created in deepnote.com' style='display:inline;max-height:16px;margin:0px;margin-right:7.5px;' src='data:image/svg+xml;base64,PD94bWwgdmVyc2lvbj0iMS4wIiBlbmNvZGluZz0iVVRGLTgiPz4KPHN2ZyB3aWR0aD0iODBweCIgaGVpZ2h0PSI4MHB4IiB2aWV3Qm94PSIwIDAgODAgODAiIHZlcnNpb249IjEuMSIgeG1sbnM9Imh0dHA6Ly93d3cudzMub3JnLzIwMDAvc3ZnIiB4bWxuczp4bGluaz0iaHR0cDovL3d3dy53My5vcmcvMTk5OS94bGluayI+CiAgICA8IS0tIEdlbmVyYXRvcjogU2tldGNoIDU0LjEgKDc2NDkwKSAtIGh0dHBzOi8vc2tldGNoYXBwLmNvbSAtLT4KICAgIDx0aXRsZT5Hcm91cCAzPC90aXRsZT4KICAgIDxkZXNjPkNyZWF0ZWQgd2l0aCBTa2V0Y2guPC9kZXNjPgogICAgPGcgaWQ9IkxhbmRpbmciIHN0cm9rZT0ibm9uZSIgc3Ryb2tlLXdpZHRoPSIxIiBmaWxsPSJub25lIiBmaWxsLXJ1bGU9ImV2ZW5vZGQiPgogICAgICAgIDxnIGlkPSJBcnRib2FyZCIgdHJhbnNmb3JtPSJ0cmFuc2xhdGUoLTEyMzUuMDAwMDAwLCAtNzkuMDAwMDAwKSI+CiAgICAgICAgICAgIDxnIGlkPSJHcm91cC0zIiB0cmFuc2Zvcm09InRyYW5zbGF0ZSgxMjM1LjAwMDAwMCwgNzkuMDAwMDAwKSI+CiAgICAgICAgICAgICAgICA8cG9seWdvbiBpZD0iUGF0aC0yMCIgZmlsbD0iIzAyNjVCNCIgcG9pbnRzPSIyLjM3NjIzNzYyIDgwIDM4LjA0NzY2NjcgODAgNTcuODIxNzgyMiA3My44MDU3NTkyIDU3LjgyMTc4MjIgMzIuNzU5MjczOSAzOS4xNDAyMjc4IDMxLjY4MzE2ODMiPjwvcG9seWdvbj4KICAgICAgICAgICAgICAgIDxwYXRoIGQ9Ik0zNS4wMDc3MTgsODAgQzQyLjkwNjIwMDcsNzYuNDU0OTM1OCA0Ny41NjQ5MTY3LDcxLjU0MjI2NzEgNDguOTgzODY2LDY1LjI2MTk5MzkgQzUxLjExMjI4OTksNTUuODQxNTg0MiA0MS42NzcxNzk1LDQ5LjIxMjIyODQgMjUuNjIzOTg0Niw0OS4yMTIyMjg0IEMyNS40ODQ5Mjg5LDQ5LjEyNjg0NDggMjkuODI2MTI5Niw0My4yODM4MjQ4IDM4LjY0NzU4NjksMzEuNjgzMTY4MyBMNzIuODcxMjg3MSwzMi41NTQ0MjUgTDY1LjI4MDk3Myw2Ny42NzYzNDIxIEw1MS4xMTIyODk5LDc3LjM3NjE0NCBMMzUuMDA3NzE4LDgwIFoiIGlkPSJQYXRoLTIyIiBmaWxsPSIjMDAyODY4Ij48L3BhdGg+CiAgICAgICAgICAgICAgICA8cGF0aCBkPSJNMCwzNy43MzA0NDA1IEwyNy4xMTQ1MzcsMC4yNTcxMTE0MzYgQzYyLjM3MTUxMjMsLTEuOTkwNzE3MDEgODAsMTAuNTAwMzkyNyA4MCwzNy43MzA0NDA1IEM4MCw2NC45NjA0ODgyIDY0Ljc3NjUwMzgsNzkuMDUwMzQxNCAzNC4zMjk1MTEzLDgwIEM0Ny4wNTUzNDg5LDc3LjU2NzA4MDggNTMuNDE4MjY3Nyw3MC4zMTM2MTAzIDUzLjQxODI2NzcsNTguMjM5NTg4NSBDNTMuNDE4MjY3Nyw0MC4xMjg1NTU3IDM2LjMwMzk1NDQsMzcuNzMwNDQwNSAyNS4yMjc0MTcsMzcuNzMwNDQwNSBDMTcuODQzMDU4NiwzNy43MzA0NDA1IDkuNDMzOTE5NjYsMzcuNzMwNDQwNSAwLDM3LjczMDQ0MDUgWiIgaWQ9IlBhdGgtMTkiIGZpbGw9IiMzNzkzRUYiPjwvcGF0aD4KICAgICAgICAgICAgPC9nPgogICAgICAgIDwvZz4KICAgIDwvZz4KPC9zdmc+' > </img>\nCreated in <span style='font-weight:600;margin-left:4px;'>Deepnote</span></a>",
   "metadata": {
    "tags": [],
    "created_in_deepnote_cell": true,
    "deepnote_cell_type": "markdown"
   }
  }
 ],
 "nbformat": 4,
 "nbformat_minor": 2,
 "metadata": {
  "orig_nbformat": 2,
  "deepnote": {},
  "deepnote_notebook_id": "a63283e7-d9a0-417a-bce7-55f9c381adbf",
  "deepnote_execution_queue": []
 }
}